{
 "cells": [
  {
   "cell_type": "markdown",
   "metadata": {
    "tags": []
   },
   "source": [
    "## Control flow: loops and conditionals\n",
    "\n",
    "Now that you know something about different data types we can talk about how to specify operations on those data types in a concise and controlled manner. Generally, we talk about controlling the flow of data through a program via either loops or conditionals. There are multiple ways that these concepts can be inplemented in a programming langauge, but for python you mainly can get by with `for` loops, `while` loops, and `if` statements. Let's start with talking about `if` statements because they're generally the easiest to understand and provide a good jumping off point for some of the finer points of python syntax.\n",
    "\n",
    ":::{warning}\n",
    "Yet another common pain point for python beginners is getting used to aligning whitespace. In python the whitespace used to indent different code blocks is important! Inside of control flow statements (like the `if` statement that we'll see soon) the code needs to be indented. Additionally, every line of code within that block needs to be indented in exactly the same way as all of the others. It is most common to use 4 spaces to indent these code blocks, although using 2 or even 8 spaces is occasionally used. We'll stick with 4 spaces for now. If you don't have everything lined up you'll probably see an error like:\n",
    "\n",
    "`IndentationError: unindent does not match any outer indentation level`\n",
    ":::\n",
    "\n",
    "### `if` statements\n",
    "A common programming workflow is to check if some condition is met and do one thing if it is and possibly another if it is not. This is encoded in the `if` statement. This can be a bit hard to wrap your head around in code without some examples, so let's just start out with some super basic examples. For instance if you just wanted to see if a number was greater than 0 and if so, print it out you would do the following."
   ]
  },
  {
   "cell_type": "code",
   "execution_count": 48,
   "metadata": {},
   "outputs": [
    {
     "name": "stdout",
     "output_type": "stream",
     "text": [
      "Hooray!\n"
     ]
    }
   ],
   "source": [
    "number = 999\n",
    "if number > 0:\n",
    "    print(\"Hooray!\")"
   ]
  },
  {
   "cell_type": "markdown",
   "metadata": {},
   "source": [
    "It's nice to be able to only run certain blocks of code when some condition is met, but it's also very common to want to do something *else* if that condition is not met. This can be accomplished by adding a new clause after the `if` statement, called the `else` block."
   ]
  },
  {
   "cell_type": "code",
   "execution_count": 49,
   "metadata": {},
   "outputs": [
    {
     "name": "stdout",
     "output_type": "stream",
     "text": [
      "negative number\n"
     ]
    }
   ],
   "source": [
    "number = -1\n",
    "if number >= 0:\n",
    "    print('positive number')\n",
    "else:\n",
    "    print('negative number')"
   ]
  },
  {
   "cell_type": "markdown",
   "metadata": {},
   "source": [
    "Additionally, it can be very useful to check for multiple conditions. You can do this by adding more blocks using `elif` which is just a contraction of \"else if\"."
   ]
  },
  {
   "cell_type": "code",
   "execution_count": 50,
   "metadata": {},
   "outputs": [
    {
     "name": "stdout",
     "output_type": "stream",
     "text": [
      "zero\n"
     ]
    }
   ],
   "source": [
    "number = 0\n",
    "if number > 0:\n",
    "    print('positive number')\n",
    "elif number == 0:\n",
    "    print('zero')\n",
    "else:\n",
    "    print('negative number')"
   ]
  },
  {
   "cell_type": "markdown",
   "metadata": {
    "tags": []
   },
   "source": [
    "### `for` loops\n",
    "\n",
    "Let's motivate the introduction to `for` loops with an example. Suppose you wanted to calculate the sum of all of the numbers less than 10. A naive way to do that with python would be to simply start adding things up line by line. This would get tedious really quickly because it requires essentially typing the same piece of code over and over:"
   ]
  },
  {
   "cell_type": "code",
   "execution_count": 51,
   "metadata": {},
   "outputs": [
    {
     "data": {
      "text/plain": [
       "45"
      ]
     },
     "execution_count": 51,
     "metadata": {},
     "output_type": "execute_result"
    }
   ],
   "source": [
    "x = 0\n",
    "x = x + 1\n",
    "x = x + 2\n",
    "x = x + 3\n",
    "x = x + 4\n",
    "x = x + 5\n",
    "x = x + 6\n",
    "x = x + 7\n",
    "x = x + 8\n",
    "x = x + 9\n",
    "x"
   ]
  },
  {
   "cell_type": "markdown",
   "metadata": {},
   "source": [
    "This is the exact case for using `for` loops. `for` loops operate on sequences directly. For instance, to iterate over a list called `numbers` we simple say `for n in numbers`. Then for every value inside of the `numbers` list, `n` temporarily is assigned that value and we can do some calculations with it. See below for an example which prints out each step in the loop:"
   ]
  },
  {
   "cell_type": "code",
   "execution_count": 52,
   "metadata": {},
   "outputs": [
    {
     "name": "stdout",
     "output_type": "stream",
     "text": [
      "On number:  0  x is now:  0\n",
      "On number:  1  x is now:  1\n",
      "On number:  2  x is now:  3\n",
      "On number:  3  x is now:  6\n",
      "On number:  4  x is now:  10\n",
      "On number:  5  x is now:  15\n",
      "On number:  6  x is now:  21\n",
      "On number:  7  x is now:  28\n",
      "On number:  8  x is now:  36\n",
      "On number:  9  x is now:  45\n"
     ]
    },
    {
     "data": {
      "text/plain": [
       "45"
      ]
     },
     "execution_count": 52,
     "metadata": {},
     "output_type": "execute_result"
    }
   ],
   "source": [
    "numbers = [0, 1, 2, 3, 4, 5, 6, 7, 8, 9]\n",
    "x = 0\n",
    "for n in numbers:\n",
    "    x = x + n\n",
    "    print('On number: ', n, ' x is now: ', x)\n",
    "x"
   ]
  },
  {
   "cell_type": "markdown",
   "metadata": {},
   "source": [
    "`for` loops are one of the most versatile constructions in programming, and can be used in may ways. Before jumping to `while` loops we can look at one of the more common ways to set up `for` loops using the `range` function instead of providing a sequence directly. This will automatically count up from 0 until the number you specify as the argument to `range` (minus one). This is nice because you can just modify one number if you want to expand the total sum to more numbers, rather than having to type them all out manually like you would have had to in the previous example."
   ]
  },
  {
   "cell_type": "code",
   "execution_count": 53,
   "metadata": {},
   "outputs": [
    {
     "name": "stdout",
     "output_type": "stream",
     "text": [
      "On number:  0  x is now:  0\n",
      "On number:  1  x is now:  1\n",
      "On number:  2  x is now:  3\n",
      "On number:  3  x is now:  6\n",
      "On number:  4  x is now:  10\n",
      "On number:  5  x is now:  15\n",
      "On number:  6  x is now:  21\n",
      "On number:  7  x is now:  28\n",
      "On number:  8  x is now:  36\n",
      "On number:  9  x is now:  45\n"
     ]
    },
    {
     "data": {
      "text/plain": [
       "45"
      ]
     },
     "execution_count": 53,
     "metadata": {},
     "output_type": "execute_result"
    }
   ],
   "source": [
    "x = 0\n",
    "for i in range(10):\n",
    "    x += i\n",
    "    print('On number: ', i, ' x is now: ', x)\n",
    "x"
   ]
  },
  {
   "cell_type": "markdown",
   "metadata": {
    "tags": []
   },
   "source": [
    "### `while` loops\n",
    "`while` loops are something like a combination of `if` statements and `for` loops. They are somewhat uncommon to encounter in basic scientific workflows, but it's worth discussing them just so you're aware of their existence and to contrast and compare with the other control flow methods.\n",
    "`while` loops specify a condition (which evaluates to a `bool`) to keep going, like done in the `if` statement, but they repeat the same inner block until the condition evaluates to `False`."
   ]
  },
  {
   "cell_type": "code",
   "execution_count": 54,
   "metadata": {},
   "outputs": [
    {
     "data": {
      "text/plain": [
       "True"
      ]
     },
     "execution_count": 54,
     "metadata": {},
     "output_type": "execute_result"
    }
   ],
   "source": [
    "limit = 30\n",
    "x = 0\n",
    "x <= limit"
   ]
  },
  {
   "cell_type": "code",
   "execution_count": 55,
   "metadata": {},
   "outputs": [
    {
     "name": "stdout",
     "output_type": "stream",
     "text": [
      "x is now  0\n",
      "x is now  1\n",
      "x is now  3\n",
      "x is now  6\n",
      "x is now  10\n",
      "x is now  15\n",
      "x is now  21\n",
      "x is now  28\n",
      "x is now  36\n",
      "\n",
      "limit exceeded! x is now:\n",
      "45\n"
     ]
    }
   ],
   "source": [
    "limit = 40\n",
    "x = 0\n",
    "n = 1\n",
    "\n",
    "while x <= limit:\n",
    "    print('x is now ', x)\n",
    "    x = x + n \n",
    "    n = n + 1\n",
    "    \n",
    "print()\n",
    "print('limit exceeded! x is now:')\n",
    "print(x)"
   ]
  },
  {
   "cell_type": "markdown",
   "metadata": {},
   "source": [
    "## List Comprehensions\n",
    "\n",
    "As motivation here, suppose you want to just apply some simple function to a list of inputs. Perhaps you just want to take the squares of a bunch of numbers. Given what you know from the previous section, you should be able to work out a basic `for` loop solution that might look like the following:\n"
   ]
  },
  {
   "cell_type": "code",
   "execution_count": null,
   "metadata": {},
   "outputs": [
    {
     "name": "stdout",
     "output_type": "stream",
     "text": [
      "[4, 25, 81, 196, 361]\n"
     ]
    }
   ],
   "source": [
    "input_numbers = [2, 5, 9, 14, 19]\n",
    "squared_numbers = []\n",
    "for n in input_numbers:\n",
    "    squared_numbers.append(n ** 2)\n",
    "\n",
    "print(squared_numbers)"
   ]
  },
  {
   "cell_type": "markdown",
   "metadata": {},
   "source": [
    "This probably feels like a lot of code to write for performing such a simple operation, and you'd be right for having that thought. Most high-level programming languages have tricks to avoid writing verbose code, and python is no difference. The way that we can do that here is to use what's called a \"list comprehension\". Without getting too in the weeds, you can just imagine putting the `for` loop inside of the brackets (`[` and `]`) that define a list. Let's just see the translation to keep things concrete:"
   ]
  },
  {
   "cell_type": "code",
   "execution_count": null,
   "metadata": {},
   "outputs": [
    {
     "name": "stdout",
     "output_type": "stream",
     "text": [
      "[4, 25, 81, 196, 361]\n"
     ]
    }
   ],
   "source": [
    "squared_numbers = [n**2 for n in input_numbers]\n",
    "print(squared_numbers)"
   ]
  },
  {
   "cell_type": "markdown",
   "metadata": {},
   "source": [
    "As you can see this is a much simpler way to perform the same computation, thought it does come at the cost of generality and requires you to remember the syntax for writing list comprehensions. As a general rule of thumb, list comprehensions are mainly useful for making your code more readable, but don't offer any large performance benefits or new functionality that can't be achieved with a regular `for` loop. We will be using list comprehensions in the example code to keep things concise."
   ]
  }
 ],
 "metadata": {
  "kernelspec": {
   "display_name": "Python 3 (ipykernel)",
   "language": "python",
   "name": "python3"
  },
  "language_info": {
   "codemirror_mode": {
    "name": "ipython",
    "version": 3
   },
   "file_extension": ".py",
   "mimetype": "text/x-python",
   "name": "python",
   "nbconvert_exporter": "python",
   "pygments_lexer": "ipython3",
   "version": "3.7.7"
  }
 },
 "nbformat": 4,
 "nbformat_minor": 4
}
