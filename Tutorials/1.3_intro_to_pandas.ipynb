{
 "cells": [
  {
   "cell_type": "markdown",
   "metadata": {},
   "source": [
    "### Pandas Overview\n",
    "This tutorial is adapted from the followin [reference](https://medium.com/@ulriktpedersen/15-pandas-tips-step-up-your-dataframe-game-bb413e6c2138) please checkout that site for more explanation and tips on working with Pandas dataframes. \n",
    "\n",
    "Also you can always refer to the Pandas [Documentation](https://pandas.pydata.org/docs/) for complete documentation of the library and more examples. \n",
    "\n",
    "Here we will walk through some of the most commonly used pandas functions to get you familiar with the libraries capabilities. \n",
    "\n",
    "To get started we'll use one of our streamflow CSV files as an example."
   ]
  },
  {
   "cell_type": "code",
   "execution_count": 83,
   "metadata": {},
   "outputs": [],
   "source": [
    "import pandas as pd\n",
    "import numpy as np\n",
    "import datetime\n",
    "\n",
    "# Read in the streamflow csv as a pandas dataframe\n",
    "data = pd.read_table('streamflow_week2.txt', sep='\\t', skiprows=31,\n",
    "                     names=['agency_cd', 'site_no', 'datetime', 'flow', 'code'],parse_dates=['datetime'] )\n",
    "data.set_index('datetime', inplace=True)\n",
    "\n",
    "# extract the year, month, and day\n",
    "data['year'] = data.index.year\n",
    "data['month'] = data.index.month\n",
    "data['day'] = data.index.day"
   ]
  },
  {
   "cell_type": "markdown",
   "metadata": {},
   "source": [
    "### Use the Head and Tail functions to quickly look at the data\n",
    "The head() and tail() functions allow you to quickly view the first and last few rows of a data frame, respectively. This is useful for getting a quick overview of the data and checking if it's been loaded correctly.\n",
    "\n",
    "**NOTE the syntax here**: Head and tail are both methods are they are linked with the object. So we call them by `data_object_name.method()` in this case our object is called `data` so we say `data.head()` if we had named our dataset above `stream_data` instead then this call would be `stream_data.head()`"
   ]
  },
  {
   "cell_type": "code",
   "execution_count": 84,
   "metadata": {},
   "outputs": [
    {
     "name": "stdout",
     "output_type": "stream",
     "text": [
      "Here are the first five rows of my dataframe\n",
      "           agency_cd  site_no   flow code  year  month  day\n",
      "datetime                                                   \n",
      "1989-01-02      USGS  9506000  205.0    A  1989      1    2\n",
      "1989-01-03      USGS  9506000  205.0    A  1989      1    3\n",
      "1989-01-04      USGS  9506000  232.0    A  1989      1    4\n",
      "1989-01-05      USGS  9506000  259.0    A  1989      1    5\n",
      "1989-01-06      USGS  9506000  278.0    A  1989      1    6\n",
      "Here are the last five rows of my dataframe\n",
      "           agency_cd  site_no  flow code  year  month  day\n",
      "datetime                                                  \n",
      "2020-08-29      USGS  9506000  46.1    P  2020      8   29\n",
      "2020-08-30      USGS  9506000  52.6    P  2020      8   30\n",
      "2020-08-31      USGS  9506000  59.3    P  2020      8   31\n",
      "2020-09-01      USGS  9506000  65.3    P  2020      9    1\n",
      "2020-09-02      USGS  9506000  63.3    P  2020      9    2\n"
     ]
    }
   ],
   "source": [
    "# view the first 5 rows\n",
    "print(\"Here are the first five rows of my dataframe\")\n",
    "print(data.head())\n",
    "\n",
    "# view the last 5 rows\n",
    "print(\"Here are the last five rows of my dataframe\")\n",
    "print(data.tail())\n"
   ]
  },
  {
   "cell_type": "markdown",
   "metadata": {},
   "source": [
    "## Summarize the dataframe\n",
    "The methods `describe` and `info` provide easy and helpful summaries of the data"
   ]
  },
  {
   "cell_type": "code",
   "execution_count": 85,
   "metadata": {},
   "outputs": [
    {
     "name": "stdout",
     "output_type": "stream",
     "text": [
      "This is the info\n",
      "<class 'pandas.core.frame.DataFrame'>\n",
      "DatetimeIndex: 11567 entries, 1989-01-02 to 2020-09-02\n",
      "Data columns (total 7 columns):\n",
      " #   Column     Non-Null Count  Dtype  \n",
      "---  ------     --------------  -----  \n",
      " 0   agency_cd  11567 non-null  object \n",
      " 1   site_no    11567 non-null  int64  \n",
      " 2   flow       11567 non-null  float64\n",
      " 3   code       11567 non-null  object \n",
      " 4   year       11567 non-null  int64  \n",
      " 5   month      11567 non-null  int64  \n",
      " 6   day        11567 non-null  int64  \n",
      "dtypes: float64(1), int64(4), object(2)\n",
      "memory usage: 722.9+ KB\n",
      "None\n",
      "This is what describe gives you\n",
      "         site_no          flow          year         month           day\n",
      "count    11567.0  11567.000000  11567.000000  11567.000000  11567.000000\n",
      "mean   9506000.0    346.250869   2004.341575      6.481802     15.728192\n",
      "std          0.0   1412.292972      9.143927      3.440207      8.800945\n",
      "min    9506000.0     19.000000   1989.000000      1.000000      1.000000\n",
      "25%    9506000.0     94.000000   1996.000000      4.000000      8.000000\n",
      "50%    9506000.0    158.000000   2004.000000      6.000000     16.000000\n",
      "75%    9506000.0    216.000000   2012.000000      9.000000     23.000000\n",
      "max    9506000.0  63400.000000   2020.000000     12.000000     31.000000\n"
     ]
    }
   ],
   "source": [
    "print(\"This is the info\")\n",
    "print(data.info())\n",
    "\n",
    "print(\"This is what describe gives you\")\n",
    "print(data.describe())"
   ]
  },
  {
   "cell_type": "markdown",
   "metadata": {},
   "source": [
    "### Selecting Data with Loc and Iloc\n",
    "- `loc[]` and `iloc[]` are two methods for selecting data from a data frame. `loc[]` is used for label-based indexing, while `iloc[]` is used for integer-based indexing. Understanding these methods is essential for selecting specific rows and columns from a data frame.\n",
    "- Syntax note: here too these are methods associated with the object so the object name comes first. Note though that we use `[]` because these are indexing the dataframe instead of the usual `()` that we use for functions and methods. "
   ]
  },
  {
   "cell_type": "code",
   "execution_count": 100,
   "metadata": {},
   "outputs": [
    {
     "name": "stdout",
     "output_type": "stream",
     "text": [
      "Full row select using loc\n",
      "agency_cd       USGS\n",
      "site_no      9506000\n",
      "flow             205\n",
      "code               A\n",
      "year            1989\n",
      "month              1\n",
      "day                3\n",
      "Name: 1989-01-03 00:00:00, dtype: object\n",
      "Single Column select using loc\n",
      "           agency_cd  site_no   flow code  year  month  day\n",
      "datetime                                                   \n",
      "1989-01-02      USGS  9506000  205.0    A  1989      1    2\n",
      "1989-01-03      USGS  9506000  205.0    A  1989      1    3\n",
      "1989-01-04      USGS  9506000  232.0    A  1989      1    4\n",
      "1989-01-05      USGS  9506000  259.0    A  1989      1    5\n",
      "1989-01-06      USGS  9506000  278.0    A  1989      1    6\n",
      "...              ...      ...    ...  ...   ...    ...  ...\n",
      "2020-08-08      USGS  9506000   38.2    P  2020      8    8\n",
      "2020-08-09      USGS  9506000   35.5    P  2020      8    9\n",
      "2020-08-10      USGS  9506000   36.6    P  2020      8   10\n",
      "2020-09-01      USGS  9506000   65.3    P  2020      9    1\n",
      "2020-09-02      USGS  9506000   63.3    P  2020      9    2\n",
      "\n",
      "[3801 rows x 7 columns]\n"
     ]
    }
   ],
   "source": [
    "# select a full by row by its index value using loc[]\n",
    "print(\"Full row select using loc\")\n",
    "print(data.loc[\"1989-01-03\"])\n",
    "\n",
    "#select a all the rows where the column values meet some criteria\n",
    "print('Single Column select using loc')\n",
    "print(data.loc[data['day'] <= 10])\n",
    "\n",
    "#select rows and columns using iloc[]\n",
    "#print(\"Selct using iloc\")\n",
    "#print(data.iloc[0:5, 0:3])  \n"
   ]
  },
  {
   "cell_type": "markdown",
   "metadata": {},
   "source": [
    "### Grouping and Aggregating Data\n",
    "Grouping and aggregating data are powerful functions in Pandas. `groupby()` allows you to group data by one or more columns, while `agg()` calculates summary statistics for each group. These functions are useful for summarizing and analyzing large data sets.\n",
    "\n",
    "The syntax for these two approaches is as follows: \n",
    "group data by a column and calculate the mean:\n",
    "\n",
    "```grouped_df = df.groupby('column_name').agg({'column_to_agg': 'mean'})```\n",
    "\n",
    "group data by multiple columns and calculate the sum:\n",
    "\n",
    "```grouped_df = df.groupby(['column1', 'column2']).agg({'column_to_agg': 'sum'})```\n"
   ]
  },
  {
   "cell_type": "code",
   "execution_count": 78,
   "metadata": {},
   "outputs": [
    {
     "name": "stdout",
     "output_type": "stream",
     "text": [
      "        flow\n",
      "month       \n",
      "1      158.0\n",
      "2      136.0\n",
      "3       97.0\n",
      "4       64.9\n",
      "5       46.0\n",
      "6       22.1\n",
      "7       19.0\n",
      "8       29.6\n",
      "9       48.6\n",
      "10      69.9\n",
      "11     117.0\n",
      "12     155.0\n"
     ]
    }
   ],
   "source": [
    "#Example using group and describe\n",
    "#monthly_data = data.groupby('month')[[\"flow\"]].describe()\n",
    "#print(monthly_data)\n",
    "\n",
    "#A bunch of different examples using groupby and agg together. Add print statments thorughout to see what each of these do. \n",
    "monthly_sum = data.groupby('month').agg('sum')\n",
    "\n",
    "monthly_sum = data.groupby(['month']).agg({'flow': 'min'})\n",
    "\n",
    "monthly_sum = data.groupby(['month', 'day']).agg(\n",
    "    {'flow': 'min'})\n",
    "\n",
    "monthly_sum = data.groupby(['month', 'day']).agg('mean', numeric_only=True)\n",
    "monthly_sum = data.groupby(['month', 'day']).agg({'flow': ['min', 'max'], 'year': 'min'})\n",
    "\n",
    "print(monthly_sum)\n",
    "\n"
   ]
  }
 ],
 "metadata": {
  "kernelspec": {
   "display_name": "hastools",
   "language": "python",
   "name": "python3"
  },
  "language_info": {
   "codemirror_mode": {
    "name": "ipython",
    "version": 3
   },
   "file_extension": ".py",
   "mimetype": "text/x-python",
   "name": "python",
   "nbconvert_exporter": "python",
   "pygments_lexer": "ipython3",
   "version": "3.7.7"
  },
  "orig_nbformat": 4
 },
 "nbformat": 4,
 "nbformat_minor": 2
}
